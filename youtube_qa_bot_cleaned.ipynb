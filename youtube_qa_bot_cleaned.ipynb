{
 "cells": [
  {
   "cell_type": "code",
   "execution_count": 3,
   "metadata": {
    "colab": {
     "base_uri": "https://localhost:8080/"
    },
    "collapsed": true,
    "executionInfo": {
     "elapsed": 12570,
     "status": "ok",
     "timestamp": 1751278204779,
     "user": {
      "displayName": "Divya Jaisansaria",
      "userId": "15618448747977431517"
     },
     "user_tz": -330
    },
    "id": "swR21vbtT39A",
    "outputId": "72470e8c-ac6c-43fb-efab-136ef1bc45d9"
   },
   "outputs": [
    {
     "name": "stdout",
     "output_type": "stream",
     "text": [
      "Requirement already satisfied: langchain in /usr/local/lib/python3.11/dist-packages (0.3.26)\n",
      "Requirement already satisfied: transformers in /usr/local/lib/python3.11/dist-packages (4.52.4)\n",
      "Requirement already satisfied: huggingface_hub in /usr/local/lib/python3.11/dist-packages (0.33.0)\n",
      "Requirement already satisfied: langchain-core<1.0.0,>=0.3.66 in /usr/local/lib/python3.11/dist-packages (from langchain) (0.3.66)\n",
      "Requirement already satisfied: langchain-text-splitters<1.0.0,>=0.3.8 in /usr/local/lib/python3.11/dist-packages (from langchain) (0.3.8)\n",
      "Requirement already satisfied: langsmith>=0.1.17 in /usr/local/lib/python3.11/dist-packages (from langchain) (0.4.1)\n",
      "Requirement already satisfied: pydantic<3.0.0,>=2.7.4 in /usr/local/lib/python3.11/dist-packages (from langchain) (2.11.7)\n",
      "Requirement already satisfied: SQLAlchemy<3,>=1.4 in /usr/local/lib/python3.11/dist-packages (from langchain) (2.0.41)\n",
      "Requirement already satisfied: requests<3,>=2 in /usr/local/lib/python3.11/dist-packages (from langchain) (2.32.3)\n",
      "Requirement already satisfied: PyYAML>=5.3 in /usr/local/lib/python3.11/dist-packages (from langchain) (6.0.2)\n",
      "Requirement already satisfied: filelock in /usr/local/lib/python3.11/dist-packages (from transformers) (3.18.0)\n",
      "Requirement already satisfied: numpy>=1.17 in /usr/local/lib/python3.11/dist-packages (from transformers) (2.0.2)\n",
      "Requirement already satisfied: packaging>=20.0 in /usr/local/lib/python3.11/dist-packages (from transformers) (24.2)\n",
      "Requirement already satisfied: regex!=2019.12.17 in /usr/local/lib/python3.11/dist-packages (from transformers) (2024.11.6)\n",
      "Requirement already satisfied: tokenizers<0.22,>=0.21 in /usr/local/lib/python3.11/dist-packages (from transformers) (0.21.2)\n",
      "Requirement already satisfied: safetensors>=0.4.3 in /usr/local/lib/python3.11/dist-packages (from transformers) (0.5.3)\n",
      "Requirement already satisfied: tqdm>=4.27 in /usr/local/lib/python3.11/dist-packages (from transformers) (4.67.1)\n",
      "Requirement already satisfied: fsspec>=2023.5.0 in /usr/local/lib/python3.11/dist-packages (from huggingface_hub) (2025.3.2)\n",
      "Requirement already satisfied: typing-extensions>=3.7.4.3 in /usr/local/lib/python3.11/dist-packages (from huggingface_hub) (4.14.0)\n",
      "Requirement already satisfied: hf-xet<2.0.0,>=1.1.2 in /usr/local/lib/python3.11/dist-packages (from huggingface_hub) (1.1.5)\n",
      "Requirement already satisfied: tenacity!=8.4.0,<10.0.0,>=8.1.0 in /usr/local/lib/python3.11/dist-packages (from langchain-core<1.0.0,>=0.3.66->langchain) (8.5.0)\n",
      "Requirement already satisfied: jsonpatch<2.0,>=1.33 in /usr/local/lib/python3.11/dist-packages (from langchain-core<1.0.0,>=0.3.66->langchain) (1.33)\n",
      "Requirement already satisfied: httpx<1,>=0.23.0 in /usr/local/lib/python3.11/dist-packages (from langsmith>=0.1.17->langchain) (0.28.1)\n",
      "Requirement already satisfied: orjson<4.0.0,>=3.9.14 in /usr/local/lib/python3.11/dist-packages (from langsmith>=0.1.17->langchain) (3.10.18)\n",
      "Requirement already satisfied: requests-toolbelt<2.0.0,>=1.0.0 in /usr/local/lib/python3.11/dist-packages (from langsmith>=0.1.17->langchain) (1.0.0)\n",
      "Requirement already satisfied: zstandard<0.24.0,>=0.23.0 in /usr/local/lib/python3.11/dist-packages (from langsmith>=0.1.17->langchain) (0.23.0)\n",
      "Requirement already satisfied: annotated-types>=0.6.0 in /usr/local/lib/python3.11/dist-packages (from pydantic<3.0.0,>=2.7.4->langchain) (0.7.0)\n",
      "Requirement already satisfied: pydantic-core==2.33.2 in /usr/local/lib/python3.11/dist-packages (from pydantic<3.0.0,>=2.7.4->langchain) (2.33.2)\n",
      "Requirement already satisfied: typing-inspection>=0.4.0 in /usr/local/lib/python3.11/dist-packages (from pydantic<3.0.0,>=2.7.4->langchain) (0.4.1)\n",
      "Requirement already satisfied: charset-normalizer<4,>=2 in /usr/local/lib/python3.11/dist-packages (from requests<3,>=2->langchain) (3.4.2)\n",
      "Requirement already satisfied: idna<4,>=2.5 in /usr/local/lib/python3.11/dist-packages (from requests<3,>=2->langchain) (3.10)\n",
      "Requirement already satisfied: urllib3<3,>=1.21.1 in /usr/local/lib/python3.11/dist-packages (from requests<3,>=2->langchain) (2.4.0)\n",
      "Requirement already satisfied: certifi>=2017.4.17 in /usr/local/lib/python3.11/dist-packages (from requests<3,>=2->langchain) (2025.6.15)\n",
      "Requirement already satisfied: greenlet>=1 in /usr/local/lib/python3.11/dist-packages (from SQLAlchemy<3,>=1.4->langchain) (3.2.3)\n",
      "Requirement already satisfied: anyio in /usr/local/lib/python3.11/dist-packages (from httpx<1,>=0.23.0->langsmith>=0.1.17->langchain) (4.9.0)\n",
      "Requirement already satisfied: httpcore==1.* in /usr/local/lib/python3.11/dist-packages (from httpx<1,>=0.23.0->langsmith>=0.1.17->langchain) (1.0.9)\n",
      "Requirement already satisfied: h11>=0.16 in /usr/local/lib/python3.11/dist-packages (from httpcore==1.*->httpx<1,>=0.23.0->langsmith>=0.1.17->langchain) (0.16.0)\n",
      "Requirement already satisfied: jsonpointer>=1.9 in /usr/local/lib/python3.11/dist-packages (from jsonpatch<2.0,>=1.33->langchain-core<1.0.0,>=0.3.66->langchain) (3.0.0)\n",
      "Requirement already satisfied: sniffio>=1.1 in /usr/local/lib/python3.11/dist-packages (from anyio->httpx<1,>=0.23.0->langsmith>=0.1.17->langchain) (1.3.1)\n"
     ]
    }
   ],
   "source": [
    "!pip install langchain transformers huggingface_hub"
   ]
  },
  {
   "cell_type": "code",
   "execution_count": 5,
   "metadata": {
    "colab": {
     "base_uri": "https://localhost:8080/"
    },
    "collapsed": true,
    "executionInfo": {
     "elapsed": 24481,
     "status": "ok",
     "timestamp": 1751278255978,
     "user": {
      "displayName": "Divya Jaisansaria",
      "userId": "15618448747977431517"
     },
     "user_tz": -330
    },
    "id": "XtHr__E_UOBI",
    "outputId": "adcc6a85-1f02-411b-c84b-725480b58cc0"
   },
   "outputs": [
    {
     "name": "stdout",
     "output_type": "stream",
     "text": [
      "Collecting langchain_community\n",
      "  Downloading langchain_community-0.3.26-py3-none-any.whl.metadata (2.9 kB)\n",
      "Requirement already satisfied: langchain-core<1.0.0,>=0.3.66 in /usr/local/lib/python3.11/dist-packages (from langchain_community) (0.3.66)\n",
      "Requirement already satisfied: langchain<1.0.0,>=0.3.26 in /usr/local/lib/python3.11/dist-packages (from langchain_community) (0.3.26)\n",
      "Requirement already satisfied: SQLAlchemy<3,>=1.4 in /usr/local/lib/python3.11/dist-packages (from langchain_community) (2.0.41)\n",
      "Requirement already satisfied: requests<3,>=2 in /usr/local/lib/python3.11/dist-packages (from langchain_community) (2.32.3)\n",
      "Requirement already satisfied: PyYAML>=5.3 in /usr/local/lib/python3.11/dist-packages (from langchain_community) (6.0.2)\n",
      "Requirement already satisfied: aiohttp<4.0.0,>=3.8.3 in /usr/local/lib/python3.11/dist-packages (from langchain_community) (3.11.15)\n",
      "Requirement already satisfied: tenacity!=8.4.0,<10,>=8.1.0 in /usr/local/lib/python3.11/dist-packages (from langchain_community) (8.5.0)\n",
      "Collecting dataclasses-json<0.7,>=0.5.7 (from langchain_community)\n",
      "  Downloading dataclasses_json-0.6.7-py3-none-any.whl.metadata (25 kB)\n",
      "Collecting pydantic-settings<3.0.0,>=2.4.0 (from langchain_community)\n",
      "  Downloading pydantic_settings-2.10.1-py3-none-any.whl.metadata (3.4 kB)\n",
      "Requirement already satisfied: langsmith>=0.1.125 in /usr/local/lib/python3.11/dist-packages (from langchain_community) (0.4.1)\n",
      "Collecting httpx-sse<1.0.0,>=0.4.0 (from langchain_community)\n",
      "  Downloading httpx_sse-0.4.1-py3-none-any.whl.metadata (9.4 kB)\n",
      "Requirement already satisfied: numpy>=1.26.2 in /usr/local/lib/python3.11/dist-packages (from langchain_community) (2.0.2)\n",
      "Requirement already satisfied: aiohappyeyeballs>=2.3.0 in /usr/local/lib/python3.11/dist-packages (from aiohttp<4.0.0,>=3.8.3->langchain_community) (2.6.1)\n",
      "Requirement already satisfied: aiosignal>=1.1.2 in /usr/local/lib/python3.11/dist-packages (from aiohttp<4.0.0,>=3.8.3->langchain_community) (1.3.2)\n",
      "Requirement already satisfied: attrs>=17.3.0 in /usr/local/lib/python3.11/dist-packages (from aiohttp<4.0.0,>=3.8.3->langchain_community) (25.3.0)\n",
      "Requirement already satisfied: frozenlist>=1.1.1 in /usr/local/lib/python3.11/dist-packages (from aiohttp<4.0.0,>=3.8.3->langchain_community) (1.7.0)\n",
      "Requirement already satisfied: multidict<7.0,>=4.5 in /usr/local/lib/python3.11/dist-packages (from aiohttp<4.0.0,>=3.8.3->langchain_community) (6.4.4)\n",
      "Requirement already satisfied: propcache>=0.2.0 in /usr/local/lib/python3.11/dist-packages (from aiohttp<4.0.0,>=3.8.3->langchain_community) (0.3.2)\n",
      "Requirement already satisfied: yarl<2.0,>=1.17.0 in /usr/local/lib/python3.11/dist-packages (from aiohttp<4.0.0,>=3.8.3->langchain_community) (1.20.1)\n",
      "Collecting marshmallow<4.0.0,>=3.18.0 (from dataclasses-json<0.7,>=0.5.7->langchain_community)\n",
      "  Downloading marshmallow-3.26.1-py3-none-any.whl.metadata (7.3 kB)\n",
      "Collecting typing-inspect<1,>=0.4.0 (from dataclasses-json<0.7,>=0.5.7->langchain_community)\n",
      "  Downloading typing_inspect-0.9.0-py3-none-any.whl.metadata (1.5 kB)\n",
      "Requirement already satisfied: langchain-text-splitters<1.0.0,>=0.3.8 in /usr/local/lib/python3.11/dist-packages (from langchain<1.0.0,>=0.3.26->langchain_community) (0.3.8)\n",
      "Requirement already satisfied: pydantic<3.0.0,>=2.7.4 in /usr/local/lib/python3.11/dist-packages (from langchain<1.0.0,>=0.3.26->langchain_community) (2.11.7)\n",
      "Requirement already satisfied: jsonpatch<2.0,>=1.33 in /usr/local/lib/python3.11/dist-packages (from langchain-core<1.0.0,>=0.3.66->langchain_community) (1.33)\n",
      "Requirement already satisfied: packaging<25,>=23.2 in /usr/local/lib/python3.11/dist-packages (from langchain-core<1.0.0,>=0.3.66->langchain_community) (24.2)\n",
      "Requirement already satisfied: typing-extensions>=4.7 in /usr/local/lib/python3.11/dist-packages (from langchain-core<1.0.0,>=0.3.66->langchain_community) (4.14.0)\n",
      "Requirement already satisfied: httpx<1,>=0.23.0 in /usr/local/lib/python3.11/dist-packages (from langsmith>=0.1.125->langchain_community) (0.28.1)\n",
      "Requirement already satisfied: orjson<4.0.0,>=3.9.14 in /usr/local/lib/python3.11/dist-packages (from langsmith>=0.1.125->langchain_community) (3.10.18)\n",
      "Requirement already satisfied: requests-toolbelt<2.0.0,>=1.0.0 in /usr/local/lib/python3.11/dist-packages (from langsmith>=0.1.125->langchain_community) (1.0.0)\n",
      "Requirement already satisfied: zstandard<0.24.0,>=0.23.0 in /usr/local/lib/python3.11/dist-packages (from langsmith>=0.1.125->langchain_community) (0.23.0)\n",
      "Collecting python-dotenv>=0.21.0 (from pydantic-settings<3.0.0,>=2.4.0->langchain_community)\n",
      "  Downloading python_dotenv-1.1.1-py3-none-any.whl.metadata (24 kB)\n",
      "Requirement already satisfied: typing-inspection>=0.4.0 in /usr/local/lib/python3.11/dist-packages (from pydantic-settings<3.0.0,>=2.4.0->langchain_community) (0.4.1)\n",
      "Requirement already satisfied: charset-normalizer<4,>=2 in /usr/local/lib/python3.11/dist-packages (from requests<3,>=2->langchain_community) (3.4.2)\n",
      "Requirement already satisfied: idna<4,>=2.5 in /usr/local/lib/python3.11/dist-packages (from requests<3,>=2->langchain_community) (3.10)\n",
      "Requirement already satisfied: urllib3<3,>=1.21.1 in /usr/local/lib/python3.11/dist-packages (from requests<3,>=2->langchain_community) (2.4.0)\n",
      "Requirement already satisfied: certifi>=2017.4.17 in /usr/local/lib/python3.11/dist-packages (from requests<3,>=2->langchain_community) (2025.6.15)\n",
      "Requirement already satisfied: greenlet>=1 in /usr/local/lib/python3.11/dist-packages (from SQLAlchemy<3,>=1.4->langchain_community) (3.2.3)\n",
      "Requirement already satisfied: anyio in /usr/local/lib/python3.11/dist-packages (from httpx<1,>=0.23.0->langsmith>=0.1.125->langchain_community) (4.9.0)\n",
      "Requirement already satisfied: httpcore==1.* in /usr/local/lib/python3.11/dist-packages (from httpx<1,>=0.23.0->langsmith>=0.1.125->langchain_community) (1.0.9)\n",
      "Requirement already satisfied: h11>=0.16 in /usr/local/lib/python3.11/dist-packages (from httpcore==1.*->httpx<1,>=0.23.0->langsmith>=0.1.125->langchain_community) (0.16.0)\n",
      "Requirement already satisfied: jsonpointer>=1.9 in /usr/local/lib/python3.11/dist-packages (from jsonpatch<2.0,>=1.33->langchain-core<1.0.0,>=0.3.66->langchain_community) (3.0.0)\n",
      "Requirement already satisfied: annotated-types>=0.6.0 in /usr/local/lib/python3.11/dist-packages (from pydantic<3.0.0,>=2.7.4->langchain<1.0.0,>=0.3.26->langchain_community) (0.7.0)\n",
      "Requirement already satisfied: pydantic-core==2.33.2 in /usr/local/lib/python3.11/dist-packages (from pydantic<3.0.0,>=2.7.4->langchain<1.0.0,>=0.3.26->langchain_community) (2.33.2)\n",
      "Collecting mypy-extensions>=0.3.0 (from typing-inspect<1,>=0.4.0->dataclasses-json<0.7,>=0.5.7->langchain_community)\n",
      "  Downloading mypy_extensions-1.1.0-py3-none-any.whl.metadata (1.1 kB)\n",
      "Requirement already satisfied: sniffio>=1.1 in /usr/local/lib/python3.11/dist-packages (from anyio->httpx<1,>=0.23.0->langsmith>=0.1.125->langchain_community) (1.3.1)\n",
      "Downloading langchain_community-0.3.26-py3-none-any.whl (2.5 MB)\n",
      "\u001b[2K   \u001b[90m━━━━━━━━━━━━━━━━━━━━━━━━━━━━━━━━━━━━━━━━\u001b[0m \u001b[32m2.5/2.5 MB\u001b[0m \u001b[31m40.7 MB/s\u001b[0m eta \u001b[36m0:00:00\u001b[0m\n",
      "\u001b[?25hDownloading dataclasses_json-0.6.7-py3-none-any.whl (28 kB)\n",
      "Downloading httpx_sse-0.4.1-py3-none-any.whl (8.1 kB)\n",
      "Downloading pydantic_settings-2.10.1-py3-none-any.whl (45 kB)\n",
      "\u001b[2K   \u001b[90m━━━━━━━━━━━━━━━━━━━━━━━━━━━━━━━━━━━━━━━━\u001b[0m \u001b[32m45.2/45.2 kB\u001b[0m \u001b[31m4.7 MB/s\u001b[0m eta \u001b[36m0:00:00\u001b[0m\n",
      "\u001b[?25hDownloading marshmallow-3.26.1-py3-none-any.whl (50 kB)\n",
      "\u001b[2K   \u001b[90m━━━━━━━━━━━━━━━━━━━━━━━━━━━━━━━━━━━━━━━━\u001b[0m \u001b[32m50.9/50.9 kB\u001b[0m \u001b[31m5.4 MB/s\u001b[0m eta \u001b[36m0:00:00\u001b[0m\n",
      "\u001b[?25hDownloading python_dotenv-1.1.1-py3-none-any.whl (20 kB)\n",
      "Downloading typing_inspect-0.9.0-py3-none-any.whl (8.8 kB)\n",
      "Downloading mypy_extensions-1.1.0-py3-none-any.whl (5.0 kB)\n",
      "Installing collected packages: python-dotenv, mypy-extensions, marshmallow, httpx-sse, typing-inspect, pydantic-settings, dataclasses-json, langchain_community\n",
      "Successfully installed dataclasses-json-0.6.7 httpx-sse-0.4.1 langchain_community-0.3.26 marshmallow-3.26.1 mypy-extensions-1.1.0 pydantic-settings-2.10.1 python-dotenv-1.1.1 typing-inspect-0.9.0\n"
     ]
    }
   ],
   "source": [
    "!pip install langchain_community"
   ]
  },
  {
   "cell_type": "code",
   "execution_count": 6,
   "metadata": {
    "executionInfo": {
     "elapsed": 60277,
     "status": "ok",
     "timestamp": 1751278317412,
     "user": {
      "displayName": "Divya Jaisansaria",
      "userId": "15618448747977431517"
     },
     "user_tz": -330
    },
    "id": "Bzy9hyd-UBKQ"
   },
   "outputs": [],
   "source": [
    "from langchain.llms import HuggingFacePipeline\n",
    "from langchain.prompts import PromptTemplate\n",
    "from langchain.chains import LLMChain\n",
    "from transformers import pipeline"
   ]
  },
  {
   "cell_type": "code",
   "execution_count": 7,
   "metadata": {
    "colab": {
     "base_uri": "https://localhost:8080/",
     "height": 372,
     "referenced_widgets": [
      "f65848edb91740cea872567c2c9f915b",
      "c4d540a2ded04a4e9e88160e391b8d4d",
      "762e5b287c2a46b5b7edad9444ece9a5",
      "72a098023ef1483aa244fd25798f3574",
      "503ebd1fc2284d119850e53b3cdbb093",
      "c14bfe7371b04c7c86c910b70e1d33b8",
      "feca9841aa1043ceba6401487615fc17",
      "98cb1bad3ff240d8922a5c5b4e513160",
      "15c2c0a50b95494bb9245683cd1177ae",
      "46d7a47ac58947a49d5631b318120fa2",
      "d1b7bac639d247489cf8fd4f0632bdc9",
      "ba88faed31f942fb8c06075c8dd4476d",
      "741e2e0f49ea4fcd9243055c81245160",
      "46e59498738944d0875108c39e1c049a",
      "5218960e1e39405cad69a84128e814de",
      "7e3b1d7616cf43ac946257ad322187da",
      "ec323c9246ac4ad1b12851d4a8c9dc83",
      "6f98660bd9674f59ab41d9d937eadcd1",
      "a9371e780a9f46ecb50947acd8fa6fe6",
      "534d42664a7b40fca6a3c49b70508eff",
      "d89a7b249211445d9073a3092de37b5e",
      "783968ca00d84c458cf10577be89d7e2",
      "59d1137c6d2f4ba2a2934563f54db586",
      "eb078031f27446c3b53cd90e13415999",
      "6100d333c88f4b53a4045332dbbb8b88",
      "86e9ae6994ce4a02bd9b85dd444958b0",
      "1d57446e123c44ea9c1db890c1508201",
      "58af5a2b9f00413dbbad59a709b927b5",
      "28355c12d50644b895d906e9dac48fda",
      "493e6bf1f7c24d80a0336af4d8ffd240",
      "5f580d6377ab41b19ec5f4869cfe27b0",
      "7a2fe5e0809b42d8acef6a2541339a1e",
      "148a2e1920a24cd0950b964814da0520",
      "77c3af25ef5a4e939d85d669414f987d",
      "50b98eea8ebc415baa7c71ce30022b64",
      "91085c7e93ef4f1a98f249a689d7ea46",
      "c5b3325643e9440abd8f10eefc1f103e",
      "6a004efc4dd6434986278e25068d5fbc",
      "2585edbb4bd9464cb3816a1b71c702df",
      "f546656a3a264756a1a209ea4c06febf",
      "ef29d1fed8cd43b2ad523dadc8899e8a",
      "0d1669da6f31457387eab3ad92840112",
      "204cb3b514674e028dc08bd0b80dd785",
      "04bc895ae6ab4cf5b72dfca9c131d2e4",
      "62f4004f355a42e3a7ff3f603cf471af",
      "71c11473903b47ceb82b22987dc1c906",
      "de4a2c3783ac4f699944145b93708aa1",
      "aec56cc24e92479aa9684f678705b05b",
      "8d69a907d9b24af180a37f1c448ccd82",
      "36578fe991f9420c806cc93a760874c8",
      "16e1fb1c7f1d4a40a6bc96d0bf1a5922",
      "b8f9f2fa30854326827ff028730139e0",
      "50b2f0df6eea4123af6b4e10cb536858",
      "2296417518ab40b2aab30f91f02649ad",
      "1a16c920ef504c6f974090ad2167e43a",
      "037161c65cbd407eb53c51080df0f170",
      "f798fbc7d6f1474cafe7321f86e326a3",
      "daea9934e8534d06be790f110871bf02",
      "5d01f86aff5240cd9f1cbbe2185fcb25",
      "724d592caa284b73b0087c105fe01e35",
      "2234d6d78fa647d6bf3be7fe41802e7e",
      "121fad970076471abbabb097565c5fcc",
      "b66cb98c6b3448f0b9ca88f7b0b7eaac",
      "9446a112583440ca966a280fbfe1d6d4",
      "a586b179382741ab9465e12c9c98c019",
      "59a80e975bfb437a98d3b254afd22172"
     ]
    },
    "executionInfo": {
     "elapsed": 53221,
     "status": "ok",
     "timestamp": 1751278376099,
     "user": {
      "displayName": "Divya Jaisansaria",
      "userId": "15618448747977431517"
     },
     "user_tz": -330
    },
    "id": "jssCtosDUcVT",
    "outputId": "b2840ea1-cdce-4c6c-f49a-d2b3993fa809"
   },
   "outputs": [
    {
     "name": "stderr",
     "output_type": "stream",
     "text": [
      "/usr/local/lib/python3.11/dist-packages/huggingface_hub/utils/_auth.py:86: UserWarning: \n",
      "Access to the secret `HF_TOKEN` has not been granted on this notebook.\n",
      "You will not be requested again.\n",
      "Please restart the session if you want to be prompted again.\n",
      "  warnings.warn(\n"
     ]
    },
    {
     "data": {
      "application/vnd.jupyter.widget-view+json": {
       "model_id": "f65848edb91740cea872567c2c9f915b",
       "version_major": 2,
       "version_minor": 0
      },
      "text/plain": [
       "config.json: 0.00B [00:00, ?B/s]"
      ]
     },
     "metadata": {},
     "output_type": "display_data"
    },
    {
     "data": {
      "application/vnd.jupyter.widget-view+json": {
       "model_id": "ba88faed31f942fb8c06075c8dd4476d",
       "version_major": 2,
       "version_minor": 0
      },
      "text/plain": [
       "model.safetensors:   0%|          | 0.00/1.63G [00:00<?, ?B/s]"
      ]
     },
     "metadata": {},
     "output_type": "display_data"
    },
    {
     "data": {
      "application/vnd.jupyter.widget-view+json": {
       "model_id": "59d1137c6d2f4ba2a2934563f54db586",
       "version_major": 2,
       "version_minor": 0
      },
      "text/plain": [
       "generation_config.json:   0%|          | 0.00/363 [00:00<?, ?B/s]"
      ]
     },
     "metadata": {},
     "output_type": "display_data"
    },
    {
     "data": {
      "application/vnd.jupyter.widget-view+json": {
       "model_id": "77c3af25ef5a4e939d85d669414f987d",
       "version_major": 2,
       "version_minor": 0
      },
      "text/plain": [
       "vocab.json: 0.00B [00:00, ?B/s]"
      ]
     },
     "metadata": {},
     "output_type": "display_data"
    },
    {
     "data": {
      "application/vnd.jupyter.widget-view+json": {
       "model_id": "62f4004f355a42e3a7ff3f603cf471af",
       "version_major": 2,
       "version_minor": 0
      },
      "text/plain": [
       "merges.txt: 0.00B [00:00, ?B/s]"
      ]
     },
     "metadata": {},
     "output_type": "display_data"
    },
    {
     "data": {
      "application/vnd.jupyter.widget-view+json": {
       "model_id": "037161c65cbd407eb53c51080df0f170",
       "version_major": 2,
       "version_minor": 0
      },
      "text/plain": [
       "tokenizer.json: 0.00B [00:00, ?B/s]"
      ]
     },
     "metadata": {},
     "output_type": "display_data"
    },
    {
     "name": "stderr",
     "output_type": "stream",
     "text": [
      "Device set to use cpu\n",
      "/tmp/ipython-input-7-2913426240.py:5: LangChainDeprecationWarning: The class `HuggingFacePipeline` was deprecated in LangChain 0.0.37 and will be removed in 1.0. An updated version of the class exists in the :class:`~langchain-huggingface package and should be used instead. To use it run `pip install -U :class:`~langchain-huggingface` and import as `from :class:`~langchain_huggingface import HuggingFacePipeline``.\n",
      "  llm = HuggingFacePipeline(pipeline=summarizer)\n"
     ]
    }
   ],
   "source": [
    "# Load the Hugging Face summarization pipeline\n",
    "summarizer = pipeline(\"summarization\", model=\"facebook/bart-large-cnn\")\n",
    "\n",
    "# Wrap it in a LangChain LLM interface\n",
    "llm = HuggingFacePipeline(pipeline=summarizer)"
   ]
  },
  {
   "cell_type": "code",
   "execution_count": 8,
   "metadata": {
    "colab": {
     "base_uri": "https://localhost:8080/",
     "height": 71
    },
    "executionInfo": {
     "elapsed": 25135,
     "status": "ok",
     "timestamp": 1751278431096,
     "user": {
      "displayName": "Divya Jaisansaria",
      "userId": "15618448747977431517"
     },
     "user_tz": -330
    },
    "id": "_Lq6guvKUopV",
    "outputId": "77b1d90e-239c-4d21-e300-311de8896d4a"
   },
   "outputs": [
    {
     "data": {
      "application/vnd.google.colaboratory.intrinsic+json": {
       "type": "string"
      },
      "text/plain": [
       "\"India, officially the Republic of India, is a country in South Asia. It is the seventh-largest country by area; the most populous country since 2023;[21] and, since its independence in 1947, the world's most populous democracy. Modern humans arrived on the Indian subcontinent from Africa no later than 55,000 years ago.\""
      ]
     },
     "execution_count": 8,
     "metadata": {},
     "output_type": "execute_result"
    }
   ],
   "source": [
    "llm.invoke(\"India, officially the Republic of India,[j][20] is a country in South Asia. It is the seventh-largest country by area; the most populous country since 2023;[21] and, since its independence in 1947, the world's most populous democracy.[22][23][24] Bounded by the Indian Ocean on the south, the Arabian Sea on the southwest, and the Bay of Bengal on the southeast, it shares land borders with Pakistan to the west;[k] China, Nepal, and Bhutan to the north; and Bangladesh and Myanmar to the east. In the Indian Ocean, India is near Sri Lanka and the Maldives; its Andaman and Nicobar Islands share a maritime border with Thailand, Myanmar, and Indonesia. Modern humans arrived on the Indian subcontinent from Africa no later than 55,000 years ago.[26][27][28] Their long occupation, predominantly in isolation as hunter-gatherers, has made the region highly diverse.[29] Settled life emerged on the subcontinent in the western margins of the Indus river basin 9,000 years ago, evolving gradually into the Indus Valley Civilisation of the third millennium BCE.[30] By 1200 BCE, an archaic form of Sanskrit, an Indo-European language, had diffused into India from the northwest.[31][32] Its hymns recorded the early dawnings of Hinduism in India.[33] India's pre-existing Dravidian languages were supplanted in the northern regions.[34] By 400 BCE, caste had emerged within Hinduism,[35] and Buddhism and Jainism had arisen, proclaiming social orders unlinked to heredity.[36] Early political consolidations gave rise to the loose-knit Maurya and Gupta Empires.[37] Widespread creativity suffused this era,[38] but the status of women declined,[39] and untouchability became an organized belief.[l][40] In South India, the Middle kingdoms exported Dravidian language scripts and religious cultures to the kingdoms of Southeast Asia.[41]\")"
   ]
  },
  {
   "cell_type": "code",
   "execution_count": 13,
   "metadata": {
    "colab": {
     "base_uri": "https://localhost:8080/"
    },
    "collapsed": true,
    "executionInfo": {
     "elapsed": 10086,
     "status": "ok",
     "timestamp": 1751278518334,
     "user": {
      "displayName": "Divya Jaisansaria",
      "userId": "15618448747977431517"
     },
     "user_tz": -330
    },
    "id": "zFhUkkgiVIho",
    "outputId": "8f72b43c-f930-4ac7-ab1b-e4d76b2f2172"
   },
   "outputs": [
    {
     "name": "stdout",
     "output_type": "stream",
     "text": [
      "Requirement already satisfied: youtube-transcript-api in /usr/local/lib/python3.11/dist-packages (1.1.0)\n",
      "Requirement already satisfied: tiktoken in /usr/local/lib/python3.11/dist-packages (0.9.0)\n",
      "Requirement already satisfied: streamlit in /usr/local/lib/python3.11/dist-packages (1.46.1)\n",
      "Requirement already satisfied: faiss-cpu in /usr/local/lib/python3.11/dist-packages (1.11.0)\n",
      "Requirement already satisfied: defusedxml<0.8.0,>=0.7.1 in /usr/local/lib/python3.11/dist-packages (from youtube-transcript-api) (0.7.1)\n",
      "Requirement already satisfied: requests in /usr/local/lib/python3.11/dist-packages (from youtube-transcript-api) (2.32.3)\n",
      "Requirement already satisfied: regex>=2022.1.18 in /usr/local/lib/python3.11/dist-packages (from tiktoken) (2024.11.6)\n",
      "Requirement already satisfied: altair<6,>=4.0 in /usr/local/lib/python3.11/dist-packages (from streamlit) (5.5.0)\n",
      "Requirement already satisfied: blinker<2,>=1.5.0 in /usr/local/lib/python3.11/dist-packages (from streamlit) (1.9.0)\n",
      "Requirement already satisfied: cachetools<7,>=4.0 in /usr/local/lib/python3.11/dist-packages (from streamlit) (5.5.2)\n",
      "Requirement already satisfied: click<9,>=7.0 in /usr/local/lib/python3.11/dist-packages (from streamlit) (8.2.1)\n",
      "Requirement already satisfied: numpy<3,>=1.23 in /usr/local/lib/python3.11/dist-packages (from streamlit) (2.0.2)\n",
      "Requirement already satisfied: packaging<26,>=20 in /usr/local/lib/python3.11/dist-packages (from streamlit) (24.2)\n",
      "Requirement already satisfied: pandas<3,>=1.4.0 in /usr/local/lib/python3.11/dist-packages (from streamlit) (2.2.2)\n",
      "Requirement already satisfied: pillow<12,>=7.1.0 in /usr/local/lib/python3.11/dist-packages (from streamlit) (11.2.1)\n",
      "Requirement already satisfied: protobuf<7,>=3.20 in /usr/local/lib/python3.11/dist-packages (from streamlit) (5.29.5)\n",
      "Requirement already satisfied: pyarrow>=7.0 in /usr/local/lib/python3.11/dist-packages (from streamlit) (18.1.0)\n",
      "Requirement already satisfied: tenacity<10,>=8.1.0 in /usr/local/lib/python3.11/dist-packages (from streamlit) (8.5.0)\n",
      "Requirement already satisfied: toml<2,>=0.10.1 in /usr/local/lib/python3.11/dist-packages (from streamlit) (0.10.2)\n",
      "Requirement already satisfied: typing-extensions<5,>=4.4.0 in /usr/local/lib/python3.11/dist-packages (from streamlit) (4.14.0)\n",
      "Requirement already satisfied: watchdog<7,>=2.1.5 in /usr/local/lib/python3.11/dist-packages (from streamlit) (6.0.0)\n",
      "Requirement already satisfied: gitpython!=3.1.19,<4,>=3.0.7 in /usr/local/lib/python3.11/dist-packages (from streamlit) (3.1.44)\n",
      "Requirement already satisfied: pydeck<1,>=0.8.0b4 in /usr/local/lib/python3.11/dist-packages (from streamlit) (0.9.1)\n",
      "Requirement already satisfied: tornado!=6.5.0,<7,>=6.0.3 in /usr/local/lib/python3.11/dist-packages (from streamlit) (6.4.2)\n",
      "Requirement already satisfied: jinja2 in /usr/local/lib/python3.11/dist-packages (from altair<6,>=4.0->streamlit) (3.1.6)\n",
      "Requirement already satisfied: jsonschema>=3.0 in /usr/local/lib/python3.11/dist-packages (from altair<6,>=4.0->streamlit) (4.24.0)\n",
      "Requirement already satisfied: narwhals>=1.14.2 in /usr/local/lib/python3.11/dist-packages (from altair<6,>=4.0->streamlit) (1.44.0)\n",
      "Requirement already satisfied: gitdb<5,>=4.0.1 in /usr/local/lib/python3.11/dist-packages (from gitpython!=3.1.19,<4,>=3.0.7->streamlit) (4.0.12)\n",
      "Requirement already satisfied: python-dateutil>=2.8.2 in /usr/local/lib/python3.11/dist-packages (from pandas<3,>=1.4.0->streamlit) (2.9.0.post0)\n",
      "Requirement already satisfied: pytz>=2020.1 in /usr/local/lib/python3.11/dist-packages (from pandas<3,>=1.4.0->streamlit) (2025.2)\n",
      "Requirement already satisfied: tzdata>=2022.7 in /usr/local/lib/python3.11/dist-packages (from pandas<3,>=1.4.0->streamlit) (2025.2)\n",
      "Requirement already satisfied: charset-normalizer<4,>=2 in /usr/local/lib/python3.11/dist-packages (from requests->youtube-transcript-api) (3.4.2)\n",
      "Requirement already satisfied: idna<4,>=2.5 in /usr/local/lib/python3.11/dist-packages (from requests->youtube-transcript-api) (3.10)\n",
      "Requirement already satisfied: urllib3<3,>=1.21.1 in /usr/local/lib/python3.11/dist-packages (from requests->youtube-transcript-api) (2.4.0)\n",
      "Requirement already satisfied: certifi>=2017.4.17 in /usr/local/lib/python3.11/dist-packages (from requests->youtube-transcript-api) (2025.6.15)\n",
      "Requirement already satisfied: smmap<6,>=3.0.1 in /usr/local/lib/python3.11/dist-packages (from gitdb<5,>=4.0.1->gitpython!=3.1.19,<4,>=3.0.7->streamlit) (5.0.2)\n",
      "Requirement already satisfied: MarkupSafe>=2.0 in /usr/local/lib/python3.11/dist-packages (from jinja2->altair<6,>=4.0->streamlit) (3.0.2)\n",
      "Requirement already satisfied: attrs>=22.2.0 in /usr/local/lib/python3.11/dist-packages (from jsonschema>=3.0->altair<6,>=4.0->streamlit) (25.3.0)\n",
      "Requirement already satisfied: jsonschema-specifications>=2023.03.6 in /usr/local/lib/python3.11/dist-packages (from jsonschema>=3.0->altair<6,>=4.0->streamlit) (2025.4.1)\n",
      "Requirement already satisfied: referencing>=0.28.4 in /usr/local/lib/python3.11/dist-packages (from jsonschema>=3.0->altair<6,>=4.0->streamlit) (0.36.2)\n",
      "Requirement already satisfied: rpds-py>=0.7.1 in /usr/local/lib/python3.11/dist-packages (from jsonschema>=3.0->altair<6,>=4.0->streamlit) (0.25.1)\n",
      "Requirement already satisfied: six>=1.5 in /usr/local/lib/python3.11/dist-packages (from python-dateutil>=2.8.2->pandas<3,>=1.4.0->streamlit) (1.17.0)\n"
     ]
    }
   ],
   "source": [
    "!pip install youtube-transcript-api tiktoken streamlit faiss-cpu chromadb"
   ]
  },
  {
   "cell_type": "code",
   "execution_count": 16,
   "metadata": {
    "executionInfo": {
     "elapsed": 3,
     "status": "ok",
     "timestamp": 1751278620537,
     "user": {
      "displayName": "Divya Jaisansaria",
      "userId": "15618448747977431517"
     },
     "user_tz": -330
    },
    "id": "tlgXBnDLVW5-"
   },
   "outputs": [],
   "source": [
    "from youtube_transcript_api import YouTubeTranscriptApi, TranscriptsDisabled\n",
    "import time\n",
    "\n",
    "def get_video_id(url):\n",
    "    if \"v=\" in url:\n",
    "        return url.split(\"v=\")[-1].split(\"&\")[0]\n",
    "    elif \"youtu.be/\" in url:\n",
    "        return url.split(\"youtu.be/\")[-1].split(\"?\")[0]\n",
    "    return None\n",
    "\n",
    "def get_transcript(video_url, max_retries=3, delay=2):\n",
    "    video_id = get_video_id(video_url)\n",
    "    for attempt in range(max_retries):\n",
    "        try:\n",
    "            transcript = YouTubeTranscriptApi.get_transcript(video_id)\n",
    "            return \" \".join([entry['text'] for entry in transcript])\n",
    "        except TranscriptsDisabled:\n",
    "            return \"❌ Transcripts are disabled for this video.\"\n",
    "        except Exception as e:\n",
    "            if \"429\" in str(e) or \"TooManyRequests\" in str(e):\n",
    "                print(f\"[{attempt+1}/{max_retries}] Rate limited. Retrying in {delay} seconds...\")\n",
    "                time.sleep(delay)\n",
    "            else:\n",
    "                return f\"❌ Unexpected error: {e}\"\n",
    "    return \"❌ Failed to retrieve transcript after multiple retries.\""
   ]
  },
  {
   "cell_type": "code",
   "execution_count": 18,
   "metadata": {
    "executionInfo": {
     "elapsed": 42,
     "status": "ok",
     "timestamp": 1751278715067,
     "user": {
      "displayName": "Divya Jaisansaria",
      "userId": "15618448747977431517"
     },
     "user_tz": -330
    },
    "id": "ItRZ0FkiWHTZ"
   },
   "outputs": [],
   "source": [
    "from langchain.text_splitter import RecursiveCharacterTextSplitter\n",
    "\n",
    "def split_text(text, chunk_size=1000, chunk_overlap=200):\n",
    "    splitter = RecursiveCharacterTextSplitter(\n",
    "        chunk_size=chunk_size,\n",
    "        chunk_overlap=chunk_overlap\n",
    "    )\n",
    "    return splitter.split_text(text)"
   ]
  },
  {
   "cell_type": "code",
   "execution_count": 23,
   "metadata": {
    "colab": {
     "base_uri": "https://localhost:8080/",
     "height": 425,
     "referenced_widgets": [
      "dd201f9bf12d405fa3e055da678523bc",
      "ee2366332ed94c06aa73c04dd320d920",
      "8ed276168cad41468b7786c343874645",
      "23fe3d505e9e4ee3b2c69837c69462de",
      "bd41ef0b3caf48e18a1dc5a4c1700745",
      "aca054c4925446199601f49c74fff93d",
      "8c334532807d43d1a16e27be7a8937df",
      "dd5ab4c4d4474ead9155a62678c6d56f",
      "3a59c87f0149412184bb7429448f3874",
      "bdcbc1be735d4dcca0a35e5e6a833a7a",
      "a8de4b2201f74c1895f87bf4d02289cb",
      "59e120c292b94a0aad19fa01f6e9190f",
      "bd3f4cb8ba604720a6f3eb39d7c03f68",
      "3777be2e315a43f79a52804b7c182a1a",
      "19836493b32945b095732d25eceb23d2",
      "d597403ecad24d848c3cfa18e622d31d",
      "6a993c27e4c6423e92e53e2ebfa3ed32",
      "391fd47129af457394bd7082db799afa",
      "64ec2027d56e4c109ab9d1369626a23a",
      "7c7a684b31784d4ea1476bce32a39381",
      "db4ded17b0924506814ad46f9c073d41",
      "8ca132a72c2c4868a1578148032115f0",
      "5dcb6db67433445e8ee956723ba91dfc",
      "dea86e040eac4106a3bbae07a3a6c7de",
      "5b9433ff01274ba08b53eefc05b70be5",
      "d71b24897b0d482fbf12ae9a7e992566",
      "19ae67a1e23241b997f40c427d62f4a2",
      "0a0ac2a7a04b45108980193fbdc2bc78",
      "f0afa6d5070e4a6a8ccd8fca15a8cb6b",
      "a692e3bde373438da5a92760882c454d",
      "38fb1a09bfbd41edb9edea1748798f55",
      "fb92e69276ff4d0b86397191ef014b74",
      "3289285a9fbc4fdca8c2745a32fd3669",
      "bf166e69000f4653a8b8ee049d66e56b",
      "a9d149988b3f44299b943c9812b490f8",
      "cfaf5f8a0ca84be38ff0fdf22f0506e7",
      "82e36686012548649801ca444de88388",
      "fd5cf98ec2c94b719c162aa8ba22f696",
      "4afdfa16a68f4874a1a73bdcd7fb4de3",
      "1a873bb29709401186a80f9b5803eadb",
      "facc9bd2f5814ec781c34f4d5901794b",
      "e69b5d9350384844807cda0db50f9935",
      "ae5e99857ea646509706aa839e1ef271",
      "9259ef3312d84284a770ce1caf918329",
      "ba64bcd8010e483d93bafa8ea22b352e",
      "c5887e000a2d44308b7a91a4c4a41e35",
      "14b993180a0443a2b1dd41512010909b",
      "cd745f98eaaa47d79b7c822022cb5999",
      "6889cb5535df4233babe237d5568d929",
      "f97e346be42b4f7da10a187e868ca0f0",
      "fd83ccb8cc864131974df99ce8756ecc",
      "024a81f74fc24f42a13f074affd13a32",
      "5757c02e38d8416a9195ad407c9a3b4a",
      "84055ff782284943bebf4be5fac4a318",
      "7e87cc067dfc443dba5f7c92240a0ea9",
      "087f519c3f964440bc2cc5f2f8cb2d0f",
      "0914e973fce541afa82d543484d40a22",
      "62628cf5286840948a32ff844b395737",
      "dd8d71cd705b4a6a89495e2ac5796b89",
      "fa790549cd454512b409f46fae1c77ec",
      "3e9b8dfcc7ac4a1a9153ffcd7d470b09",
      "8ef22523e1724ecb8f6bf2b65b46f583",
      "90ff54566db54072a5512af33f294aee",
      "2fe3f4306e2d4b9384dee1ea23411706",
      "608080c11cea448683654a0056b75590",
      "ef1127c18d91412f83637040178bfbb5",
      "0ab77074356d4b64bde359b1fa01079c",
      "a342d4270dee444aa6db35681b1209d9",
      "a0b5355336eb44b089db9d7a4c6f294c",
      "b805601d2afc46468fcaf230ba3893b2",
      "679b175887b742369e8a1f07ce3683b8",
      "4829ae8f19a14939889ebf74aa1f99ef",
      "1f8722ebbb3e46baba482050b96efe5d",
      "4c46f390b7ac4b1d8440b30fefbe81a5",
      "09a61eea1ca04d85a488467cf7fa88f4",
      "faaa6d28f21a4fc4bd0d49807e9d5c06",
      "4e96ffbb0bdb423eb9ae628a0f44bf07",
      "c3320b4489a24f3682e98158f888eba0",
      "f3c0a321430b4531ba0efd77db2c82b8",
      "fbf6233dd93d4a8b8ed97fe6587f9417",
      "94d8f01ce8044b7697c63d24ce4de974",
      "19f1bc4afb0d410ea5786bcbce01f8ce",
      "feca116c81dd4b8bba140036b0dd44b9",
      "38626398d70f400d903bf12d88b08787",
      "870519fa9dc14da8a67a8c1d737799b6",
      "480a4df3aa56463f8589878ed84ffcf3",
      "68650dcfba04415b811f86eeb4c9e573",
      "8e3f8cfe7d2948e6ad01c1d5b8013cb2",
      "e13913baddf5424d8d50b02f87c34b56",
      "7954f53b4a684c2abeb090c02d4aca40",
      "df4f188830ea41a1812d7c59fe8bf478",
      "b643d5ec73b34f94a98591eb8ea0465a",
      "839494654e5f4ee08482f9d80e1c4ca2",
      "4618c29218194f2eab8022e5be7725e7",
      "9517fb6c9d454fcfab29b200699bf0bc",
      "42b581557e5344df8eb31f9e08103ed8",
      "e9747e7235304f3e992061805038a649",
      "c6c5a331a2f64bc2aa28f714ce1b6285",
      "36f5479b69a746088a1ab589effa7ffd",
      "fc33e729a58d4726bf5761d7f6acfeb2",
      "0e5a60cf9e494102b3322e46996e3107",
      "07d90d387532410f91ee186139c3bf47",
      "bcfa3be827fa4c92be014ec83bb9a5d3",
      "79c9e1fcaaea48e28c9f724e157c60e0",
      "d83099518cba4311a6dba9127caf6af4",
      "3868dce3ae854161a2d016ec9fa90946",
      "8b243c3c2b834bd5bc6330eb88c74a20",
      "5690a6a801a64bdabc89f112dcd31904",
      "48e9b0c4557a4d519ef0db1b6ebb92ea",
      "770261b0fd604c6ea71d257944b9d5cd",
      "8046ff3edfca4774a59d6283d063ad0c",
      "5a1aa9f15915441bae227e9d841e2239",
      "d82c5eccc7a046a0904bca6610b497d5",
      "d83b24d62abe408ebb3254e85fdc9e49",
      "5d9597e42bb141afbac2bea4db1d0569",
      "8bf67983daeb400e94ee5cf26446d56d",
      "c07511bff0094516b9231eb7049e21a4",
      "8197cf58197f4faeaf94fcdd54bc2c00",
      "e77bc7a1d9ea4ed6ada67614de02d2cf",
      "42f4afbf5a294aeb89fa75e28971f67f",
      "60df71beefa04da7ba2d3746d1d8356f"
     ]
    },
    "executionInfo": {
     "elapsed": 13084,
     "status": "ok",
     "timestamp": 1751279454586,
     "user": {
      "displayName": "Divya Jaisansaria",
      "userId": "15618448747977431517"
     },
     "user_tz": -330
    },
    "id": "RXrE2Qq-YwsR",
    "outputId": "93839cc2-52f0-4718-e676-d178d2362bff"
   },
   "outputs": [
    {
     "name": "stderr",
     "output_type": "stream",
     "text": [
      "/tmp/ipython-input-23-2246992896.py:5: LangChainDeprecationWarning: The class `HuggingFaceEmbeddings` was deprecated in LangChain 0.2.2 and will be removed in 1.0. An updated version of the class exists in the :class:`~langchain-huggingface package and should be used instead. To use it run `pip install -U :class:`~langchain-huggingface` and import as `from :class:`~langchain_huggingface import HuggingFaceEmbeddings``.\n",
      "  embedding_model = HuggingFaceEmbeddings(model_name=\"sentence-transformers/all-MiniLM-L6-v2\")\n"
     ]
    },
    {
     "data": {
      "application/vnd.jupyter.widget-view+json": {
       "model_id": "dd201f9bf12d405fa3e055da678523bc",
       "version_major": 2,
       "version_minor": 0
      },
      "text/plain": [
       "modules.json:   0%|          | 0.00/349 [00:00<?, ?B/s]"
      ]
     },
     "metadata": {},
     "output_type": "display_data"
    },
    {
     "data": {
      "application/vnd.jupyter.widget-view+json": {
       "model_id": "59e120c292b94a0aad19fa01f6e9190f",
       "version_major": 2,
       "version_minor": 0
      },
      "text/plain": [
       "config_sentence_transformers.json:   0%|          | 0.00/116 [00:00<?, ?B/s]"
      ]
     },
     "metadata": {},
     "output_type": "display_data"
    },
    {
     "data": {
      "application/vnd.jupyter.widget-view+json": {
       "model_id": "5dcb6db67433445e8ee956723ba91dfc",
       "version_major": 2,
       "version_minor": 0
      },
      "text/plain": [
       "README.md: 0.00B [00:00, ?B/s]"
      ]
     },
     "metadata": {},
     "output_type": "display_data"
    },
    {
     "data": {
      "application/vnd.jupyter.widget-view+json": {
       "model_id": "bf166e69000f4653a8b8ee049d66e56b",
       "version_major": 2,
       "version_minor": 0
      },
      "text/plain": [
       "sentence_bert_config.json:   0%|          | 0.00/53.0 [00:00<?, ?B/s]"
      ]
     },
     "metadata": {},
     "output_type": "display_data"
    },
    {
     "data": {
      "application/vnd.jupyter.widget-view+json": {
       "model_id": "ba64bcd8010e483d93bafa8ea22b352e",
       "version_major": 2,
       "version_minor": 0
      },
      "text/plain": [
       "config.json:   0%|          | 0.00/612 [00:00<?, ?B/s]"
      ]
     },
     "metadata": {},
     "output_type": "display_data"
    },
    {
     "data": {
      "application/vnd.jupyter.widget-view+json": {
       "model_id": "087f519c3f964440bc2cc5f2f8cb2d0f",
       "version_major": 2,
       "version_minor": 0
      },
      "text/plain": [
       "model.safetensors:   0%|          | 0.00/90.9M [00:00<?, ?B/s]"
      ]
     },
     "metadata": {},
     "output_type": "display_data"
    },
    {
     "data": {
      "application/vnd.jupyter.widget-view+json": {
       "model_id": "0ab77074356d4b64bde359b1fa01079c",
       "version_major": 2,
       "version_minor": 0
      },
      "text/plain": [
       "tokenizer_config.json:   0%|          | 0.00/350 [00:00<?, ?B/s]"
      ]
     },
     "metadata": {},
     "output_type": "display_data"
    },
    {
     "data": {
      "application/vnd.jupyter.widget-view+json": {
       "model_id": "c3320b4489a24f3682e98158f888eba0",
       "version_major": 2,
       "version_minor": 0
      },
      "text/plain": [
       "vocab.txt: 0.00B [00:00, ?B/s]"
      ]
     },
     "metadata": {},
     "output_type": "display_data"
    },
    {
     "data": {
      "application/vnd.jupyter.widget-view+json": {
       "model_id": "e13913baddf5424d8d50b02f87c34b56",
       "version_major": 2,
       "version_minor": 0
      },
      "text/plain": [
       "tokenizer.json: 0.00B [00:00, ?B/s]"
      ]
     },
     "metadata": {},
     "output_type": "display_data"
    },
    {
     "data": {
      "application/vnd.jupyter.widget-view+json": {
       "model_id": "fc33e729a58d4726bf5761d7f6acfeb2",
       "version_major": 2,
       "version_minor": 0
      },
      "text/plain": [
       "special_tokens_map.json:   0%|          | 0.00/112 [00:00<?, ?B/s]"
      ]
     },
     "metadata": {},
     "output_type": "display_data"
    },
    {
     "data": {
      "application/vnd.jupyter.widget-view+json": {
       "model_id": "8046ff3edfca4774a59d6283d063ad0c",
       "version_major": 2,
       "version_minor": 0
      },
      "text/plain": [
       "config.json:   0%|          | 0.00/190 [00:00<?, ?B/s]"
      ]
     },
     "metadata": {},
     "output_type": "display_data"
    }
   ],
   "source": [
    "from langchain.docstore.document import Document\n",
    "from langchain.vectorstores import FAISS\n",
    "from langchain.embeddings import HuggingFaceEmbeddings\n",
    "from langchain.chains import RetrievalQA\n",
    "embedding_model = HuggingFaceEmbeddings(model_name=\"sentence-transformers/all-MiniLM-L6-v2\")\n",
    "\n",
    "def create_vector_store(chunks):\n",
    "    docs = [Document(page_content=chunk) for chunk in chunks]\n",
    "    vectorstore = FAISS.from_documents(docs, embedding_model)\n",
    "    return vectorstore\n",
    "\n",
    "def get_qa_chain(vectorstore, llm):\n",
    "    retriever = vectorstore.as_retriever(search_kwargs={\"k\": 3})\n",
    "    return RetrievalQA.from_chain_type(llm=llm, retriever=retriever, chain_type=\"stuff\")"
   ]
  },
  {
   "cell_type": "code",
   "execution_count": 24,
   "metadata": {
    "executionInfo": {
     "elapsed": 2,
     "status": "ok",
     "timestamp": 1751279469290,
     "user": {
      "displayName": "Divya Jaisansaria",
      "userId": "15618448747977431517"
     },
     "user_tz": -330
    },
    "id": "BVp1apSuY_sc"
   },
   "outputs": [],
   "source": [
    "def youtube_qa_pipeline(video_url, question):\n",
    "    transcript = get_transcript(video_url)\n",
    "    if \"❌\" in transcript:\n",
    "        return transcript\n",
    "\n",
    "    chunks = split_text(transcript)\n",
    "    vectorstore = create_vector_store(chunks)\n",
    "    qa_chain = get_qa_chain(vectorstore, llm)\n",
    "    answer = qa_chain.run(question)\n",
    "    return answer\n"
   ]
  },
  {
   "cell_type": "code",
   "execution_count": 26,
   "metadata": {
    "colab": {
     "base_uri": "https://localhost:8080/"
    },
    "executionInfo": {
     "elapsed": 48162,
     "status": "ok",
     "timestamp": 1751279625907,
     "user": {
      "displayName": "Divya Jaisansaria",
      "userId": "15618448747977431517"
     },
     "user_tz": -330
    },
    "id": "QWc7WKNKZBuF",
    "outputId": "98dbc1d0-a9e6-400b-ba86-ae9182ad7512"
   },
   "outputs": [
    {
     "name": "stdout",
     "output_type": "stream",
     "text": [
      "🤖 Answer:  VK Dutta was on duty, communicating with both Saudi and Kazakhstan planes. He was the one to give clearance to the Saudi airplane to take off from the Delhi airport. A few minutes later, the pilots of the Saudi plane reported to him, that the plane had reached the height of 10,000 ft. They request clearance to go up to 14,000ft. On the other hand, the Kazakh aeroplane wants to land. Dutna tells the Kazakhaeroplane to remain at 15,000 feet. And not to descend any further. There needs to be at least a vertical distance of 1,.000 ft between 2 aircraft.\n"
     ]
    }
   ],
   "source": [
    "video_url = \"https://www.youtube.com/watch?v=klnYxLLcceE\"  # Replace with any valid video\n",
    "question = \"What is told in this video?\"\n",
    "\n",
    "response = youtube_qa_pipeline(video_url, question)\n",
    "print(\"🤖 Answer:\", response)"
   ]
  },
  {
   "cell_type": "code",
   "execution_count": null,
   "metadata": {
    "id": "n9QZxF1ccGB7"
   },
   "outputs": [],
   "source": [
    "import nbformat\n",
    "from google.colab import _message\n",
    "from google.colab import files\n",
    "\n",
    "# 1. Get the current notebook as a dict\n",
    "contents = _message.blocking_request('get_ipynb')['ipynb']\n",
    "\n",
    "# 2. Remove widget metadata if it exists\n",
    "if 'widgets' in contents.get('metadata', {}):\n",
    "    del contents['metadata']['widgets']\n",
    "\n",
    "# 3. Convert dict to a NotebookNode (required for nbformat.write)\n",
    "nb_node = nbformat.from_dict(contents)\n",
    "\n",
    "# 4. Save it as a cleaned .ipynb file\n",
    "cleaned_filename = \"youtube_qa_bot_cleaned.ipynb\"\n",
    "with open(cleaned_filename, \"w\") as f:\n",
    "    nbformat.write(nb_node, f)\n",
    "\n",
    "# 5. Offer it for download\n",
    "files.download(cleaned_filename)\n",
    "\n",
    "print(\"✅ Cleaned notebook is ready to upload to GitHub.\")"
   ]
  }
 ],
 "metadata": {
  "colab": {
   "provenance": []
  },
  "kernelspec": {
   "display_name": "Python 3",
   "name": "python3"
  },
  "language_info": {
   "name": "python"
  }
 },
 "nbformat": 4,
 "nbformat_minor": 0
}
